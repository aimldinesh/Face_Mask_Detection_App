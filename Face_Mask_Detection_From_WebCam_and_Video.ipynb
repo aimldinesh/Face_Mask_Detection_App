{
 "cells": [
  {
   "cell_type": "markdown",
   "metadata": {},
   "source": [
    "# Face Mask Detection App With WebCam & Video"
   ]
  },
  {
   "cell_type": "code",
   "execution_count": 1,
   "metadata": {},
   "outputs": [],
   "source": [
    "# Import Package\n",
    "import cv2\n",
    "import os\n",
    "from keras.models import load_model\n",
    "from keras.preprocessing.image import load_img, img_to_array\n",
    "import numpy as np"
   ]
  },
  {
   "cell_type": "code",
   "execution_count": 2,
   "metadata": {},
   "outputs": [],
   "source": [
    "# load Model\n",
    "model = load_model('model/model.h5')"
   ]
  },
  {
   "cell_type": "code",
   "execution_count": 3,
   "metadata": {},
   "outputs": [],
   "source": [
    "# Height and Width of the image\n",
    "img_width, img_hight = 200, 200"
   ]
  },
  {
   "cell_type": "code",
   "execution_count": 4,
   "metadata": {},
   "outputs": [],
   "source": [
    "# Load the Cascade face Classifier\n",
    "face_cascade = cv2.CascadeClassifier(\"haarcascade_frontalface_default.xml\")"
   ]
  },
  {
   "cell_type": "code",
   "execution_count": 5,
   "metadata": {},
   "outputs": [
    {
     "name": "stdout",
     "output_type": "stream",
     "text": [
      "Person not wearing mask - prob =  0.88325644\n",
      "Person not wearing mask - prob =  0.9825402\n",
      "Person not wearing mask - prob =  0.98442703\n",
      "Person not wearing mask - prob =  0.98547655\n",
      "Person not wearing mask - prob =  0.9782923\n",
      "Person not wearing mask - prob =  0.881791\n",
      "Person wearning mask - prob =  0.8032205\n",
      "Person wearning mask - prob =  0.84294367\n",
      "Person wearning mask - prob =  0.83141005\n",
      "Person wearning mask - prob =  0.79219395\n",
      "Person wearning mask - prob =  0.8484362\n",
      "Person wearning mask - prob =  0.8484136\n",
      "Person wearning mask - prob =  0.8724423\n",
      "Person wearning mask - prob =  0.82031614\n",
      "Person wearning mask - prob =  0.9568339\n",
      "Person wearning mask - prob =  0.8506391\n",
      "Person wearning mask - prob =  0.73612744\n",
      "Person wearning mask - prob =  0.9389112\n",
      "Person wearning mask - prob =  0.75188446\n",
      "Person wearning mask - prob =  0.91858417\n",
      "Person wearning mask - prob =  0.87088424\n",
      "Person wearning mask - prob =  0.8328737\n",
      "Person wearning mask - prob =  0.77316695\n",
      "Person wearning mask - prob =  0.98001957\n",
      "Person wearning mask - prob =  0.85129696\n"
     ]
    }
   ],
   "source": [
    "# Start WebCam\n",
    "cap = cv2.VideoCapture(0)\n",
    "\n",
    "# Capture Video\n",
    "#cap = cv2.VideoCapture('videos/video.mp4') \n",
    "\n",
    "# Parameter for text\n",
    "font = cv2.FONT_HERSHEY_SIMPLEX \n",
    "org = (1,1)\n",
    "class_label = ' '\n",
    "fontScale = 1 \n",
    "thickness = 2\n",
    "color = (255,0,0)\n",
    "\n",
    "img_count_full = 0\n",
    "\n",
    "# Start reading image and prediction\n",
    "while True:\n",
    "    img_count_full += 1\n",
    "     \n",
    "    # Read image from webcam\n",
    "    responce, color_img = cap.read(0)\n",
    "     \n",
    "    # If respoce False the break the loop\n",
    "    if responce == False:\n",
    "        break \n",
    "    \n",
    "    # Convert to Grayscale Image\n",
    "    gray_img = cv2.cvtColor(color_img, cv2.COLOR_BGR2GRAY)\n",
    "    \n",
    "    # Detect the Faces\n",
    "    faces = face_cascade.detectMultiScale(gray_img, 1.1, 8)\n",
    "    \n",
    "    # detect face then predict class mask or not then draw rectangle and text then display image\n",
    "    img_count = 0\n",
    "    for (x, y, w, h) in faces:\n",
    "        org = (x-10,y-10)\n",
    "        img_count +=1 \n",
    "        color_face = color_img[y:y+h,x:x+w] \n",
    "        cv2.imwrite('faces/person/%dface.jpg'%(img_count),color_face)\n",
    "        img = load_img('faces/person/%dface.jpg'%(img_count), target_size=(img_width,img_hight))\n",
    " \n",
    "        img = img_to_array(img)/255\n",
    "        img = np.expand_dims(img,axis=0)\n",
    "        pred_prob = model.predict(img)\n",
    "        pred=np.argmax(pred_prob)\n",
    " \n",
    "        if pred==0:\n",
    "            print(\"Person wearning mask - prob = \",pred_prob[0][0])\n",
    "            class_lable = \"Mask\"\n",
    "            color = (255, 0, 0)\n",
    "            cv2.rectangle(color_img, (x, y), (x+w, y+h), (0, 0, 255), 3)\n",
    "            # Using cv2.putText() method \n",
    "            cv2.putText(color_img, class_lable, org, font, fontScale, color, thickness, cv2.LINE_AA) \n",
    "            cv2.imwrite('faces/with_mask/%dmask.jpg'%(img_count),color_img)\n",
    " \n",
    "        else: \n",
    "            print('Person not wearing mask - prob = ',pred_prob[0][1])\n",
    "            class_lable = \"No Mask\"\n",
    "            color = (0, 255, 0)\n",
    "            cv2.rectangle(color_img, (x, y), (x+w, y+h), (0, 0, 255), 3)\n",
    "            # Using cv2.putText() method \n",
    "            cv2.putText(color_img, class_lable, org, font,fontScale, color, thickness, cv2.LINE_AA) \n",
    "            cv2.imwrite('faces/without_mask/%dno_mask.jpg'%(img_count),color_img)\n",
    "\n",
    "        \n",
    "    # Display image\n",
    "    cv2.imshow(' Face Mask Detection', color_img)\n",
    "    if cv2.waitKey(1) & 0xFF == ord('q'):\n",
    "        break\n",
    "\n",
    "\n",
    "# Release the VideoCapture\n",
    "cap.release()\n",
    "cv2.destroyAllWindows()\n",
    "\n"
   ]
  },
  {
   "cell_type": "code",
   "execution_count": null,
   "metadata": {},
   "outputs": [],
   "source": []
  }
 ],
 "metadata": {
  "kernelspec": {
   "display_name": "Python 3",
   "language": "python",
   "name": "python3"
  },
  "language_info": {
   "codemirror_mode": {
    "name": "ipython",
    "version": 3
   },
   "file_extension": ".py",
   "mimetype": "text/x-python",
   "name": "python",
   "nbconvert_exporter": "python",
   "pygments_lexer": "ipython3",
   "version": "3.7.6"
  }
 },
 "nbformat": 4,
 "nbformat_minor": 4
}
